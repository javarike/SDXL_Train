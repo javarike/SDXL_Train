{
 "cells": [
  {
   "cell_type": "markdown",
   "id": "f51edf69-8202-48bf-b369-734453c80194",
   "metadata": {},
   "source": [
    "## 作者的话：本镜像包，基于B站up主：烈风流狂的阿里云训练整合包制作，阿里云可以白嫖三个月的A10显卡试用，需要的可加烈风流狂的QQ群：644314954\n",
    "已经内置了训练集，可以先实验一下，看看效果，然后再开始自己的模型训练"
   ]
  },
  {
   "cell_type": "markdown",
   "id": "f3f56e0e-a7bb-4783-bf39-797f530417ac",
   "metadata": {},
   "source": [
    "## 一、将训练包移动到数据盘中（时间较长，请耐性等待）"
   ]
  },
  {
   "cell_type": "code",
   "execution_count": 1,
   "id": "92b33b6f-2f3b-4898-9f54-f2897b50f965",
   "metadata": {},
   "outputs": [],
   "source": [
    "!mv /root/lora-scripts/ /root/autodl-tmp/lora-scripts/"
   ]
  },
  {
   "cell_type": "markdown",
   "id": "7e0bea00-be3b-4a1a-ad14-a2e82e48c2fd",
   "metadata": {},
   "source": [
    "## 二、设置数据集"
   ]
  },
  {
   "cell_type": "code",
   "execution_count": null,
   "id": "6b33d8ce-b32e-4858-960b-c602371a8e9e",
   "metadata": {},
   "outputs": [],
   "source": [
    "#请到目录autodl-tmp/lora-scripts/train目录下，上传你的数据集，默然脚本会扫描这个文件夹下的所有文件\n",
    "#训练参数请修改autodl-tmp/lora-scripts/train_tacanime.sh文件，建议不要修改非训练模型和模型输出名称以外的其他参数"
   ]
  },
  {
   "cell_type": "markdown",
   "id": "8b2db02d-3e7b-457b-b857-1a8a098996b9",
   "metadata": {},
   "source": [
    "## 二、开始训练"
   ]
  },
  {
   "cell_type": "code",
   "execution_count": null,
   "id": "bf509174-5e6c-4308-9551-abf33864346e",
   "metadata": {},
   "outputs": [],
   "source": [
    "%cd /root/autodl-tmp/lora-scripts    \n",
    "!bash train_tacanime.sh"
   ]
  }
 ],
 "metadata": {
  "kernelspec": {
   "display_name": "Python 3 (ipykernel)",
   "language": "python",
   "name": "python3"
  },
  "language_info": {
   "codemirror_mode": {
    "name": "ipython",
    "version": 3
   },
   "file_extension": ".py",
   "mimetype": "text/x-python",
   "name": "python",
   "nbconvert_exporter": "python",
   "pygments_lexer": "ipython3",
   "version": "3.8.10"
  }
 },
 "nbformat": 4,
 "nbformat_minor": 5
}
